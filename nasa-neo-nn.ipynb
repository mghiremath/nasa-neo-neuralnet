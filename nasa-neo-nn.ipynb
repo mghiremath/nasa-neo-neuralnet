{
 "cells": [
  {
   "cell_type": "code",
   "execution_count": 20,
   "id": "edf74447-c8c9-4e86-99f0-7190286d0aeb",
   "metadata": {},
   "outputs": [
    {
     "name": "stdout",
     "output_type": "stream",
     "text": [
      "        id                 name  est_diameter_min  est_diameter_max  \\\n",
      "0  2162635  162635 (2000 SS164)          1.198271          2.679415   \n",
      "1  2277475    277475 (2005 WK4)          0.265800          0.594347   \n",
      "2  2512244   512244 (2015 YE18)          0.722030          1.614507   \n",
      "3  3596030          (2012 BV13)          0.096506          0.215794   \n",
      "4  3667127          (2014 GE35)          0.255009          0.570217   \n",
      "\n",
      "   relative_velocity  miss_distance orbiting_body  sentry_object  \\\n",
      "0       13569.249224   5.483974e+07         Earth          False   \n",
      "1       73588.726663   6.143813e+07         Earth          False   \n",
      "2      114258.692129   4.979872e+07         Earth          False   \n",
      "3       24764.303138   2.543497e+07         Earth          False   \n",
      "4       42737.733765   4.627557e+07         Earth          False   \n",
      "\n",
      "   absolute_magnitude  hazardous  \n",
      "0               16.73      False  \n",
      "1               20.00       True  \n",
      "2               17.83      False  \n",
      "3               22.20      False  \n",
      "4               20.09       True  \n",
      "Columns: ['id', 'name', 'est_diameter_min', 'est_diameter_max', 'relative_velocity', 'miss_distance', 'orbiting_body', 'sentry_object', 'absolute_magnitude', 'hazardous']\n"
     ]
    }
   ],
   "source": [
    "import pandas as pd\n",
    "\n",
    "df = pd.read_csv('NASA.csv')\n",
    "print(df.head())\n",
    "print(\"Columns:\", list(df.columns))"
   ]
  },
  {
   "cell_type": "code",
   "execution_count": 21,
   "id": "4ec3cff7",
   "metadata": {},
   "outputs": [
    {
     "name": "stdout",
     "output_type": "stream",
     "text": [
      "['id', 'name', 'est_diameter_min', 'est_diameter_max', 'relative_velocity', 'miss_distance', 'orbiting_body', 'sentry_object', 'absolute_magnitude', 'hazardous']\n"
     ]
    }
   ],
   "source": [
    "print(list(df.columns))\n"
   ]
  },
  {
   "cell_type": "code",
   "execution_count": 22,
   "id": "ebadb090",
   "metadata": {},
   "outputs": [
    {
     "name": "stdout",
     "output_type": "stream",
     "text": [
      "X shape: (90836, 5)\n",
      "y shape: (90836, 1)\n",
      "Hazardous ratio: 0.09731825\n"
     ]
    }
   ],
   "source": [
    "import numpy as np\n",
    "\n",
    "# Choose features you want to use\n",
    "features = [\n",
    "    'est_diameter_min',\n",
    "    'est_diameter_max',\n",
    "    'relative_velocity',\n",
    "    'miss_distance',\n",
    "    'absolute_magnitude'\n",
    "]\n",
    "\n",
    "target_col = 'hazardous'  # This is your hazard flag\n",
    "\n",
    "# Clean data\n",
    "df_clean = df.dropna(subset=features + [target_col])\n",
    "\n",
    "# Convert target to binary: 1 = hazardous, 0 = not\n",
    "df_clean['label'] = df_clean[target_col].astype(str).str.upper().map({'TRUE': 1, 'FALSE': 0, 'Y': 1, 'N': 0, 1: 1, 0: 0})\n",
    "\n",
    "X = df_clean[features].values.astype(np.float32)\n",
    "y = df_clean['label'].values.astype(np.float32).reshape(-1, 1)\n",
    "\n",
    "print(\"X shape:\", X.shape)\n",
    "print(\"y shape:\", y.shape)\n",
    "print(\"Hazardous ratio:\", y.mean())"
   ]
  },
  {
   "cell_type": "code",
   "execution_count": 23,
   "id": "a8854f2a",
   "metadata": {},
   "outputs": [],
   "source": [
    "from sklearn.model_selection import train_test_split\n",
    "from sklearn.preprocessing import StandardScaler\n",
    "\n",
    "# Split into train/test sets (stratify keeps class ratio similar in both)\n",
    "X_train, X_test, y_train, y_test = train_test_split(\n",
    "    X, y, test_size=0.2, random_state=42, stratify=y\n",
    ")\n",
    "\n",
    "# Standardize using only the training data stats\n",
    "scaler = StandardScaler()\n",
    "X_train_scaled = scaler.fit_transform(X_train)\n",
    "X_test_scaled = scaler.transform(X_test)"
   ]
  },
  {
   "cell_type": "code",
   "execution_count": 24,
   "id": "976cc52d",
   "metadata": {},
   "outputs": [],
   "source": [
    "from nn import MLP\n",
    "from engine import Value"
   ]
  },
  {
   "cell_type": "code",
   "execution_count": 25,
   "id": "4f3e5732",
   "metadata": {},
   "outputs": [],
   "source": [
    "def sigmoid(x):\n",
    "    return Value(1.0) / (Value(1.0) + (-x).exp())\n",
    "\n",
    "def binary_cross_entropy(pred, target):\n",
    "    eps = 1e-7\n",
    "    pred = pred * (1 - eps) + eps\n",
    "    one = Value(1.0)\n",
    "    t = Value(float(target))\n",
    "    return -(t * pred.log() + (one - t) * (one - pred).log())"
   ]
  },
  {
   "cell_type": "code",
   "execution_count": 53,
   "id": "faa6772f",
   "metadata": {},
   "outputs": [],
   "source": [
    "n_inputs = X_train_scaled.shape[1]   # should be 5\n",
    "hidden_sizes = [16, 8]               # try 16 and 8 units; tune as you wish\n",
    "model = MLP(nin=n_inputs, nouts=hidden_sizes + [1])  # Last layer is 1 for binary"
   ]
  },
  {
   "cell_type": "code",
   "execution_count": 27,
   "id": "d3cd089e",
   "metadata": {},
   "outputs": [
    {
     "name": "stdout",
     "output_type": "stream",
     "text": [
      "Epoch  1: Avg Loss = 0.414846\n",
      "Epoch  2: Avg Loss = 0.403307\n",
      "Epoch  3: Avg Loss = 0.402388\n",
      "Epoch  4: Avg Loss = 0.401992\n",
      "Epoch  5: Avg Loss = 0.401728\n",
      "Epoch  6: Avg Loss = 0.401524\n",
      "Epoch  7: Avg Loss = 0.401351\n",
      "Epoch  8: Avg Loss = 0.401192\n",
      "Epoch  9: Avg Loss = 0.401040\n",
      "Epoch 10: Avg Loss = 0.400915\n",
      "Epoch 11: Avg Loss = 0.400803\n",
      "Epoch 12: Avg Loss = 0.400701\n",
      "Epoch 13: Avg Loss = 0.400607\n",
      "Epoch 14: Avg Loss = 0.400520\n",
      "Epoch 15: Avg Loss = 0.400439\n",
      "Epoch 16: Avg Loss = 0.400365\n",
      "Epoch 17: Avg Loss = 0.400296\n",
      "Epoch 18: Avg Loss = 0.400231\n",
      "Epoch 19: Avg Loss = 0.400171\n",
      "Epoch 20: Avg Loss = 0.400113\n"
     ]
    }
   ],
   "source": [
    "def train_epoch(model, X, y, lr=0.01):\n",
    "    total_loss = 0.0\n",
    "    for xi, yi in zip(X, y):\n",
    "        # Convert each input to micrograd Value\n",
    "        input_vals = [Value(float(x)) for x in xi]\n",
    "        out = model(input_vals)        # Output is a list with 1 element (Value)\n",
    "        pred = sigmoid(out)               # Convert output to probability\n",
    "        loss = binary_cross_entropy(pred, float(yi[0]))   # Target is 0.0 or 1.0\n",
    "\n",
    "        zero_grad(model)              # Reset gradients\n",
    "        loss.backward()\n",
    "        clip = 5.0\n",
    "        for p in model.parameters():\n",
    "            if p.grad > clip:\n",
    "                p.grad = clip\n",
    "            elif p.grad < -clip:\n",
    "                p.grad = -clip\n",
    "            p.data -= lr * p.grad         # Simple SGD\n",
    "\n",
    "        total_loss += loss.data           # loss.data is Python float\n",
    "\n",
    "    return total_loss / len(X)\n",
    "def zero_grad(model):\n",
    "    for p in model.parameters():\n",
    "        p.grad = 0.0\n",
    "# Training loop\n",
    "n_epochs = 20\n",
    "for epoch in range(n_epochs):\n",
    "    avg_loss = train_epoch(model, X_train_scaled, y_train, lr=0.001)\n",
    "    print(f\"Epoch {epoch+1:2d}: Avg Loss = {avg_loss:.6f}\")"
   ]
  },
  {
   "cell_type": "code",
   "execution_count": 56,
   "id": "0ac0ffc8",
   "metadata": {},
   "outputs": [],
   "source": [
    "def predict(model, X, threshold=0.5):\n",
    "    preds = []\n",
    "    for xi in X:\n",
    "        input_vals = [Value(float(x)) for x in xi]\n",
    "        out = model(input_vals)\n",
    "        prob = sigmoid(out).data\n",
    "        preds.append(1 if prob > threshold else 0)\n",
    "    return np.array(preds)"
   ]
  },
  {
   "cell_type": "code",
   "execution_count": 57,
   "id": "3903c267",
   "metadata": {},
   "outputs": [
    {
     "name": "stdout",
     "output_type": "stream",
     "text": [
      "New Model Results (Micrograd+MLP):\n",
      "              precision    recall  f1-score   support\n",
      "\n",
      "         0.0     0.8747    0.6327    0.7343     16400\n",
      "         1.0     0.0447    0.1595    0.0699      1768\n",
      "\n",
      "    accuracy                         0.5867     18168\n",
      "   macro avg     0.4597    0.3961    0.4021     18168\n",
      "weighted avg     0.7940    0.5867    0.6697     18168\n",
      "\n"
     ]
    }
   ],
   "source": [
    "from sklearn.metrics import classification_report\n",
    "\n",
    "y_pred = predict(model, X_test_scaled)\n",
    "y_true = y_test.flatten()   # flatten shape (n, 1) to (n,)\n",
    "print(\"New Model Results (Micrograd+MLP):\")\n",
    "print(classification_report(y_true, y_pred, digits=4))"
   ]
  },
  {
   "cell_type": "code",
   "execution_count": 30,
   "id": "9e7ffd53",
   "metadata": {},
   "outputs": [],
   "source": [
    "import torch\n",
    "import torch.nn as nn\n",
    "import torch.nn.functional as F\n",
    "\n",
    "class HazardMLP(nn.Module):\n",
    "    def __init__(self, input_dim):\n",
    "        super().__init__()\n",
    "        self.net = nn.Sequential(\n",
    "            nn.Linear(input_dim, 16),\n",
    "            nn.ReLU(),\n",
    "            nn.Linear(16, 8),\n",
    "            nn.ReLU(),\n",
    "            nn.Linear(8, 1)\n",
    "        )\n",
    "    def forward(self, x):\n",
    "        return self.net(x)"
   ]
  },
  {
   "cell_type": "code",
   "execution_count": 42,
   "id": "cbcb75d4",
   "metadata": {},
   "outputs": [],
   "source": [
    "import numpy as np\n",
    "device = 'cuda' if torch.cuda.is_available() else 'cpu'\n",
    "\n",
    "X_train_pt = torch.tensor(X_train_scaled, dtype=torch.float32)\n",
    "y_train_pt = torch.tensor(y_train, dtype=torch.float32)\n",
    "X_test_pt  = torch.tensor(X_test_scaled, dtype=torch.float32)\n",
    "y_test_pt  = torch.tensor(y_test, dtype=torch.float32)"
   ]
  },
  {
   "cell_type": "code",
   "execution_count": 43,
   "id": "62c99c46",
   "metadata": {},
   "outputs": [
    {
     "name": "stdout",
     "output_type": "stream",
     "text": [
      "Epoch  1: Loss = 1.251189\n",
      "Epoch  2: Loss = 1.228649\n",
      "Epoch  3: Loss = 1.208679\n",
      "Epoch  4: Loss = 1.190788\n",
      "Epoch  5: Loss = 1.173263\n",
      "Epoch  6: Loss = 1.155311\n",
      "Epoch  7: Loss = 1.136790\n",
      "Epoch  8: Loss = 1.117831\n",
      "Epoch  9: Loss = 1.098756\n",
      "Epoch 10: Loss = 1.080147\n",
      "Epoch 11: Loss = 1.062461\n",
      "Epoch 12: Loss = 1.046133\n",
      "Epoch 13: Loss = 1.031517\n",
      "Epoch 14: Loss = 1.018709\n",
      "Epoch 15: Loss = 1.007417\n",
      "Epoch 16: Loss = 0.997035\n",
      "Epoch 17: Loss = 0.986785\n",
      "Epoch 18: Loss = 0.975943\n",
      "Epoch 19: Loss = 0.964039\n",
      "Epoch 20: Loss = 0.950892\n"
     ]
    }
   ],
   "source": [
    "model = HazardMLP(input_dim=X_train_pt.shape[1])\n",
    "\n",
    "optimizer = torch.optim.Adam(model.parameters(), lr=0.01)\n",
    "\n",
    "# Class weighting for rare class\n",
    "neg, pos = np.bincount(y_train.flatten().astype(int))\n",
    "pos_weight = torch.tensor([neg / pos], dtype=torch.float32).to('cuda' if torch.cuda.is_available() else 'cpu')\n",
    "criterion = nn.BCEWithLogitsLoss(pos_weight=pos_weight)\n",
    "#criterion = nn.BCEWithLogitsLoss()  # For binary classification\n",
    "\n",
    "n_epochs = 20\n",
    "for epoch in range(n_epochs):\n",
    "    model.train()\n",
    "    optimizer.zero_grad()\n",
    "    logits = model(X_train_pt).squeeze(1)  # Shape: (N,)\n",
    "    loss = criterion(logits, y_train_pt.squeeze(1))\n",
    "    loss.backward()\n",
    "    optimizer.step()\n",
    "    print(f\"Epoch {epoch+1:2d}: Loss = {loss.item():.6f}\")"
   ]
  },
  {
   "cell_type": "code",
   "execution_count": 44,
   "id": "e5660e35",
   "metadata": {},
   "outputs": [
    {
     "name": "stdout",
     "output_type": "stream",
     "text": [
      "\n",
      "=== Threshold: 0.5 ===\n",
      "              precision    recall  f1-score   support\n",
      "\n",
      "           0     0.9936    0.7087    0.8273     16400\n",
      "           1     0.2617    0.9576    0.4110      1768\n",
      "\n",
      "    accuracy                         0.7329     18168\n",
      "   macro avg     0.6276    0.8331    0.6192     18168\n",
      "weighted avg     0.9224    0.7329    0.7868     18168\n",
      "\n",
      "\n",
      "=== Threshold: 0.3 ===\n",
      "              precision    recall  f1-score   support\n",
      "\n",
      "           0     1.0000    0.2627    0.4161     16400\n",
      "           1     0.1276    1.0000    0.2263      1768\n",
      "\n",
      "    accuracy                         0.3344     18168\n",
      "   macro avg     0.5638    0.6313    0.3212     18168\n",
      "weighted avg     0.9151    0.3344    0.3976     18168\n",
      "\n",
      "\n",
      "=== Threshold: 0.2 ===\n",
      "              precision    recall  f1-score   support\n",
      "\n",
      "           0     1.0000    0.0002    0.0004     16400\n",
      "           1     0.0973    1.0000    0.1774      1768\n",
      "\n",
      "    accuracy                         0.0975     18168\n",
      "   macro avg     0.5487    0.5001    0.0889     18168\n",
      "weighted avg     0.9122    0.0975    0.0176     18168\n",
      "\n"
     ]
    }
   ],
   "source": [
    "from sklearn.metrics import classification_report\n",
    "\n",
    "model.eval()\n",
    "with torch.no_grad():\n",
    "    logits = model(X_test_pt).squeeze(1)\n",
    "    probs = torch.sigmoid(logits).cpu().numpy()\n",
    "    y_true = y_test_pt.cpu().numpy().flatten().astype(int)\n",
    "\n",
    "for thresh in [0.5, 0.3, 0.2]:\n",
    "    y_pred = (probs > thresh).astype(int)\n",
    "    print(f\"\\n=== Threshold: {thresh} ===\")\n",
    "    print(classification_report(y_true, y_pred, digits=4))"
   ]
  },
  {
   "cell_type": "code",
   "execution_count": 46,
   "id": "74472adb",
   "metadata": {},
   "outputs": [],
   "source": [
    "import torch.optim as optim\n",
    "\n",
    "class HazardMLP(nn.Module):\n",
    "    def __init__(self, input_dim):\n",
    "        super().__init__()\n",
    "        self.net = nn.Sequential(\n",
    "            nn.Linear(input_dim, 16),\n",
    "            nn.ReLU(),\n",
    "            nn.Linear(16, 8),\n",
    "            nn.ReLU(),\n",
    "            nn.Linear(8, 1)\n",
    "        )\n",
    "    def forward(self, x):\n",
    "        return self.net(x)\n",
    "\n",
    "model = HazardMLP(X_train_pt.shape[1]).to(device)\n",
    "optimizer = optim.Adam(model.parameters(), lr=0.01)\n"
   ]
  },
  {
   "cell_type": "code",
   "execution_count": 47,
   "id": "669de133",
   "metadata": {},
   "outputs": [],
   "source": [
    "# Class weighting for rare class\n",
    "neg, pos = np.bincount(y_train.flatten().astype(int))\n",
    "pos_weight = torch.tensor([neg / pos], dtype=torch.float32).to(device)\n",
    "criterion = nn.BCEWithLogitsLoss(pos_weight=pos_weight)"
   ]
  },
  {
   "cell_type": "code",
   "execution_count": 48,
   "id": "4f103956",
   "metadata": {},
   "outputs": [
    {
     "name": "stdout",
     "output_type": "stream",
     "text": [
      "Epoch  1: Loss = 1.346123\n",
      "Epoch  2: Loss = 1.311296\n",
      "Epoch  3: Loss = 1.281578\n",
      "Epoch  4: Loss = 1.254907\n",
      "Epoch  5: Loss = 1.230317\n",
      "Epoch  6: Loss = 1.207191\n",
      "Epoch  7: Loss = 1.185189\n",
      "Epoch  8: Loss = 1.163604\n",
      "Epoch  9: Loss = 1.141732\n",
      "Epoch 10: Loss = 1.119278\n",
      "Epoch 11: Loss = 1.096110\n",
      "Epoch 12: Loss = 1.072016\n",
      "Epoch 13: Loss = 1.046826\n",
      "Epoch 14: Loss = 1.020402\n",
      "Epoch 15: Loss = 0.992829\n",
      "Epoch 16: Loss = 0.964379\n",
      "Epoch 17: Loss = 0.935393\n",
      "Epoch 18: Loss = 0.906276\n",
      "Epoch 19: Loss = 0.877487\n",
      "Epoch 20: Loss = 0.849487\n"
     ]
    }
   ],
   "source": [
    "#  Training loop\n",
    "n_epochs = 20\n",
    "for epoch in range(n_epochs):\n",
    "    model.train()\n",
    "    optimizer.zero_grad()\n",
    "    logits = model(X_train_pt).squeeze(1)\n",
    "    loss = criterion(logits, y_train_pt.squeeze(1))\n",
    "    loss.backward()\n",
    "    optimizer.step()\n",
    "    print(f\"Epoch {epoch+1:2d}: Loss = {loss.item():.6f}\")\n",
    "\n",
    "#  Predict probabilities\n",
    "model.eval()\n",
    "with torch.no_grad():\n",
    "    logits = model(X_test_pt).squeeze(1)\n",
    "    probs = torch.sigmoid(logits).cpu().numpy()\n",
    "    y_true = y_test_pt.cpu().numpy().flatten().astype(int)\n"
   ]
  },
  {
   "cell_type": "code",
   "execution_count": 49,
   "id": "ffe7b886",
   "metadata": {},
   "outputs": [
    {
     "name": "stdout",
     "output_type": "stream",
     "text": [
      "\n",
      "Best F1 threshold: 0.452, F1: 0.4606\n"
     ]
    },
    {
     "data": {
      "image/png": "[encoded data removed]",
      "text/plain": [
       "<Figure size 800x600 with 1 Axes>"
      ]
     },
     "metadata": {},
     "output_type": "display_data"
    },
    {
     "name": "stdout",
     "output_type": "stream",
     "text": [
      "\n",
      "=== Classification report at best F1 threshold ===\n",
      "              precision    recall  f1-score   support\n",
      "\n",
      "           0     0.9917    0.7689    0.8662     16400\n",
      "           1     0.3050    0.9406    0.4606      1768\n",
      "\n",
      "    accuracy                         0.7856     18168\n",
      "   macro avg     0.6484    0.8548    0.6634     18168\n",
      "weighted avg     0.9249    0.7856    0.8267     18168\n",
      "\n"
     ]
    }
   ],
   "source": [
    "from sklearn.metrics import classification_report, precision_recall_curve, f1_score\n",
    "import matplotlib.pyplot as plt\n",
    "\n",
    "#  Precision-Recall curve and F1 optimization\n",
    "precisions, recalls, thresholds = precision_recall_curve(y_true, probs)\n",
    "f1s = []\n",
    "for thresh in thresholds:\n",
    "    y_pred = (probs > thresh).astype(int)\n",
    "    f1s.append(f1_score(y_true, y_pred))\n",
    "\n",
    "best_idx = np.argmax(f1s)\n",
    "best_thresh = thresholds[best_idx]\n",
    "print(f\"\\nBest F1 threshold: {best_thresh:.3f}, F1: {f1s[best_idx]:.4f}\")\n",
    "\n",
    "# Plot PR curve\n",
    "plt.figure(figsize=(8,6))\n",
    "plt.plot(recalls, precisions, marker='.')\n",
    "plt.xlabel('Recall')\n",
    "plt.ylabel('Precision')\n",
    "plt.title('Precision-Recall Curve')\n",
    "plt.grid(True)\n",
    "plt.show()\n",
    "\n",
    "# Show detailed report for best threshold\n",
    "y_pred_best = (probs > best_thresh).astype(int)\n",
    "print(\"\\n=== Classification report at best F1 threshold ===\")\n",
    "print(classification_report(y_true, y_pred_best, digits=4))"
   ]
  }
 ],
 "metadata": {
  "kernelspec": {
   "display_name": "base",
   "language": "python",
   "name": "python3"
  },
  "language_info": {
   "codemirror_mode": {
    "name": "ipython",
    "version": 3
   },
   "file_extension": ".py",
   "mimetype": "text/x-python",
   "name": "python",
   "nbconvert_exporter": "python",
   "pygments_lexer": "ipython3",
   "version": "3.9.18"
  }
 },
 "nbformat": 4,
 "nbformat_minor": 5
}
